{
  "nbformat": 4,
  "nbformat_minor": 0,
  "metadata": {
    "colab": {
      "name": "RewardsDatabase.ipynb",
      "provenance": [],
      "collapsed_sections": [],
      "include_colab_link": true
    },
    "kernelspec": {
      "name": "python3",
      "display_name": "Python 3"
    }
  },
  "cells": [
    {
      "cell_type": "markdown",
      "metadata": {
        "id": "view-in-github",
        "colab_type": "text"
      },
      "source": [
        "<a href=\"https://colab.research.google.com/github/ryanwaters123/ryan-waters/blob/master/RewardsDatabase.ipynb\" target=\"_parent\"><img src=\"https://colab.research.google.com/assets/colab-badge.svg\" alt=\"Open In Colab\"/></a>"
      ]
    },
    {
      "cell_type": "markdown",
      "metadata": {
        "id": "Y79ssg4iQCg7",
        "colab_type": "text"
      },
      "source": [
        "Part 2: Gas Station Rewards Points Database"
      ]
    },
    {
      "cell_type": "markdown",
      "metadata": {
        "id": "J4rQYmfpQJv_",
        "colab_type": "text"
      },
      "source": [
        "The purpose of this database is to keep track of customers and their purchases, customers will be rewarded for frequently shopping in the form of ‘points’ which could be redeemed to get free items. Giving customers an incentive to shop will drive in more business, and in turn more lucrative profits. Each of the five tables below will demonstrate how this system works and how to keep track of it. A number of the tables will be updated in real time as customers make purchases, accumulating points or spending their points for reward. For the company it is very important that these tables stay up to date in order to combat customers trying to redeem their points more than once. The purpose of table one is to pair each of the customers with a personalized ID #, along with their names, phone numbers and available points, this will be updated in real time so the available points are readily viewable. Table two will represent how many points a customer is rewarded for buying each specific item. Conversely, table three will show how many points must be spent in order to attain each rewarded item, both of these tables will stay consistent as the values should not change. Tables four and five will be similar to one another as they will both keep track of transaction history specific to each customer. Table four will show previous transactions as a whole, giving the amount spent by the customer and the number of points awarded in the transaction. Table five builds off of table four, but more in depth, it takes each transaction, what you bought, and what you were awarded for each item, both of these tables will be updated in real time, and will be specific to each individual customer as previously stated. Tables 4 and 5 are important because they also eliminate the need for paper receipts, and makes them easier to track. Doing this cuts down on the costs of paper for the business and less degradation to the environment, plus most receipts end up in the trash anyway. For each of the tables there is a distinct relationship to the user, there is a 1:M relationship from table one to table four, and a M:M relationship between tables 4 and 5. Tables two and three do not update, and are not linked to any of the others, but they are necessary in tracking the points and knowing the values of individual products, because of this they have a 1:1 relationship with table one and a 1:M relationship with both tables four and five. Not much work would need to be done by the company as the system should update automatically, and will warn the cashier if someone is over drawing points. Other than that, there is the potential that corporate would change the values in tables two and three, to promote specific items or a number of different reasons they please. The point is that database will be taking the brunt of all the work and will allow workers to focus primarily on doing their jobs as best as possible. One constraint of the system is that there is no negative point values, therefore ensuring the company is not getting taken advantage of. There will also be a confirmation for each purchase made over $100. The goal of this database is to bring more customers in, people love to be rewarded, and made to feel special. By adding a reward system that is as easy to use as this, the quality of life for frequent shoppers dramatically increases. Having a reward system could be the decisive factor that makes customers choose to shop here as opposed to competitors.A lot of companies are creating award systems but none are as thorough as this. For the company itself, the benefits of having this reward system are monstrumental, it can cut down on common issues that are present in the workplace and give employees more time to focus on improving the other various facets of their duties, this can lead to higher production, and in turn, increased profits. All around this system is an essential part of workplace maintenance and growth."
      ]
    },
    {
      "cell_type": "code",
      "metadata": {
        "id": "F6nZaW8rQiz4",
        "colab_type": "code",
        "colab": {}
      },
      "source": [
        "import sqlite3 # Once imported in a single notebook, it is available to us throughout the rest of the notebook. "
      ],
      "execution_count": 0,
      "outputs": []
    },
    {
      "cell_type": "code",
      "metadata": {
        "id": "O10-o0InQlIt",
        "colab_type": "code",
        "colab": {}
      },
      "source": [
        "# connect to database, if not there, create it.\n",
        "connectionToDatabase = sqlite3.connect('Customers') "
      ],
      "execution_count": 0,
      "outputs": []
    },
    {
      "cell_type": "code",
      "metadata": {
        "id": "5eCLKHFGRQ9y",
        "colab_type": "code",
        "colab": {}
      },
      "source": [
        "cursor = connectionToDatabase.cursor()"
      ],
      "execution_count": 0,
      "outputs": []
    },
    {
      "cell_type": "code",
      "metadata": {
        "id": "sPKDbPihRWyN",
        "colab_type": "code",
        "colab": {}
      },
      "source": [
        "cursor.execute('''drop table IF EXISTS Customers''')\n",
        "connectionToDatabase.commit()\n",
        "\n",
        "cursor.execute('''create table Customers (customerID integer PRIMARY KEY, first_name text, last_name text, phone_number string, points_available real)''')\n",
        "connectionToDatabase.commit()"
      ],
      "execution_count": 0,
      "outputs": []
    },
    {
      "cell_type": "code",
      "metadata": {
        "id": "6Fqz4-Wv6M6m",
        "colab_type": "code",
        "colab": {}
      },
      "source": [
        "cursor.execute('''insert into Customers values ('1', 'Joey', 'Davidson', '724-724-7244', '200' );''')\n",
        "connectionToDatabase.commit()\n",
        "cursor.execute('''insert into Customers values ('2', 'Bob', 'Johnson', '678-999-8212', '350' );''')\n",
        "connectionToDatabase.commit()\n",
        "cursor.execute('''insert into Customers values ('3', 'Larry', 'Jones', '123-321-1234', '0' );''')\n",
        "connectionToDatabase.commit()\n",
        "cursor.execute('''insert into Customers values ('4', 'Fitzgerald', 'Banks', '911-321-0987', '800' );''')\n",
        "connectionToDatabase.commit()\n",
        "cursor.execute('''insert into Customers values ('5', 'Sam', 'Smith', '456-852-6322', '400' );''')\n",
        "connectionToDatabase.commit()\n",
        "cursor.execute('''insert into Customers values ('6', 'Donny', 'Brooks', '555-487-6525', '150' );''')\n",
        "connectionToDatabase.commit()\n",
        "cursor.execute('''insert into Customers values ('7', 'Austin', 'Post', '664-256-1495', '100' );''')\n",
        "connectionToDatabase.commit()"
      ],
      "execution_count": 0,
      "outputs": []
    },
    {
      "cell_type": "markdown",
      "metadata": {
        "id": "CYkefVqOQVZB",
        "colab_type": "text"
      },
      "source": [
        "Table 1: Customers\n",
        "\n",
        "A list of customers, their IDs, phone numbers, and reward point balances are stored here.\n",
        "Goal: track customer information\n",
        "Method: Store it all in 1 table"
      ]
    },
    {
      "cell_type": "markdown",
      "metadata": {
        "id": "olNDvLuEQidh",
        "colab_type": "text"
      },
      "source": [
        "|Customer ID|First Name|Last Name|Phone Number|Points Available|\n",
        "|---|---|---|---|---|\n",
        "|1|Joey|Davidson|724-724-7244|200|\n",
        "|2|Bob|Johnson|678-999-8212|350|\n",
        "|3|Larry|Jones|123-321-1234|0|\n",
        "|4|Fitzgerald|Banks|911-321-0987|800|\n",
        "|5|Sam|Smith|456-852-6322|400|\n",
        "|6|Donny|Brooks|555-487-6525|150|\n",
        "|7|Austin|Post|664-256-1495|100|"
      ]
    },
    {
      "cell_type": "markdown",
      "metadata": {
        "id": "DOHG6kkaQtan",
        "colab_type": "text"
      },
      "source": [
        "Table 2: Points Awarded for Purchases\n",
        "\n",
        "This table contains a list showing how many points buying each item in the store awards.\n",
        "Goal: Allow customers to easily see how many points things will award them\n",
        "Method: Provide a complete list in this table on our website"
      ]
    },
    {
      "cell_type": "code",
      "metadata": {
        "id": "7jCSX1ocEn_2",
        "colab_type": "code",
        "colab": {}
      },
      "source": [
        "cursor.execute('''drop table IF EXISTS Points_Awarded''')\n",
        "connectionToDatabase.commit()\n",
        "\n",
        "cursor.execute('''create table Points_Awarded (item text PRIMARY KEY, price int, points_awarded int)''')\n",
        "connectionToDatabase.commit()"
      ],
      "execution_count": 0,
      "outputs": []
    },
    {
      "cell_type": "code",
      "metadata": {
        "id": "JCSindaKFA0Q",
        "colab_type": "code",
        "colab": {}
      },
      "source": [
        "cursor.execute('''insert into Points_Awarded values ('Candy Bar', '1', '50' );''')\n",
        "connectionToDatabase.commit()\n",
        "cursor.execute('''insert into Points_Awarded values ('Pizza', '7', '200' );''')\n",
        "connectionToDatabase.commit()\n",
        "cursor.execute('''insert into Points_Awarded values ('Icee', '2', '75' );''')\n",
        "connectionToDatabase.commit()\n",
        "cursor.execute('''insert into Points_Awarded values ('Hot Dog', '4', '100' );''')\n",
        "connectionToDatabase.commit()\n",
        "cursor.execute('''insert into Points_Awarded values ('Pop', '2', '125' );''')\n",
        "connectionToDatabase.commit()\n",
        "cursor.execute('''insert into Points_Awarded values ('Burger', '6', '150' );''')\n",
        "connectionToDatabase.commit()\n",
        "cursor.execute('''insert into Points_Awarded values ('Cheeseburger', '7', '175' );''')\n",
        "connectionToDatabase.commit()\n",
        "cursor.execute('''insert into Points_Awarded values ('Ice Cream', '3', '80' );''')\n",
        "connectionToDatabase.commit()"
      ],
      "execution_count": 0,
      "outputs": []
    },
    {
      "cell_type": "markdown",
      "metadata": {
        "id": "MSDGis30Qxae",
        "colab_type": "text"
      },
      "source": [
        "|Item|Price ($)|Points Awarded|\n",
        "|---|---|---|\n",
        "|Candy Bar|1|50|\n",
        "|Pizza|7|200|\n",
        "|Icee|2|75|\n",
        "|Hot dog|4|100|\n",
        "|Pop|2|125|\n",
        "|Burger|6|150|\n",
        "|Cheeseburger|7|175|\n",
        "|Ice Cream|3|80|\n"
      ]
    },
    {
      "cell_type": "code",
      "metadata": {
        "id": "_sJU32Q49332",
        "colab_type": "code",
        "colab": {}
      },
      "source": [
        "cursor.execute('''drop table IF EXISTS Points_Needed''')\n",
        "connectionToDatabase.commit()\n",
        "\n",
        "cursor.execute('''create table Points_Needed (item text PRIMARY KEY, points_required int)''')\n",
        "connectionToDatabase.commit()"
      ],
      "execution_count": 0,
      "outputs": []
    },
    {
      "cell_type": "code",
      "metadata": {
        "id": "lZwl8hZa-Qgj",
        "colab_type": "code",
        "colab": {}
      },
      "source": [
        "cursor.execute('''insert into Points_Needed values ('Pizza', '2000' );''')\n",
        "connectionToDatabase.commit()\n",
        "cursor.execute('''insert into Points_Needed values ('Pop', '800' );''')\n",
        "connectionToDatabase.commit()\n",
        "cursor.execute('''insert into Points_Needed values ('Hot Dog', '500' );''')\n",
        "connectionToDatabase.commit()\n",
        "cursor.execute('''insert into Points_Needed values ('Candy Bar', '250' );''')\n",
        "connectionToDatabase.commit()\n",
        "cursor.execute('''insert into Points_Needed values ('Burger', '1500' );''')\n",
        "connectionToDatabase.commit()\n",
        "cursor.execute('''insert into Points_Needed values ('Cheeseburger', '1750' );''')\n",
        "connectionToDatabase.commit()\n",
        "cursor.execute('''insert into Points_Needed values ('Ice Cream', '250' );''')\n",
        "connectionToDatabase.commit()\n",
        "cursor.execute('''insert into Points_Needed values ('Icee', '200' );''')\n",
        "connectionToDatabase.commit()"
      ],
      "execution_count": 0,
      "outputs": []
    },
    {
      "cell_type": "markdown",
      "metadata": {
        "id": "Fq_tj-arQ2pA",
        "colab_type": "text"
      },
      "source": [
        "Table 3: Points Needed to Purchase Items\n",
        "\n",
        "This list shows how many points each item in the store costs to buy."
      ]
    },
    {
      "cell_type": "markdown",
      "metadata": {
        "id": "VqX7Zvj4Q7-t",
        "colab_type": "text"
      },
      "source": [
        "|Item|Points Required|\n",
        "|---|---|\n",
        "|Pizza|2000|\n",
        "|Pop|800|\n",
        "|Hot dog|500|\n",
        "|Candy Bar|250|\n",
        "|Burger|1500|\n",
        "|Cheeseburger|1750|\n",
        "|Ice Cream|250|\n",
        "|Icee|200|"
      ]
    },
    {
      "cell_type": "code",
      "metadata": {
        "id": "Vj6PR84zGhD1",
        "colab_type": "code",
        "colab": {}
      },
      "source": [
        "cursor.execute('''drop table IF EXISTS Transactions_Financial_c1''')\n",
        "connectionToDatabase.commit()\n",
        "\n",
        "cursor.execute('''create table Transactions_Financial_c1 (transactionNumber int PRIMARY KEY, total int, newBalance int)''')\n",
        "connectionToDatabase.commit()"
      ],
      "execution_count": 0,
      "outputs": []
    },
    {
      "cell_type": "code",
      "metadata": {
        "id": "AjoshXL7HK8z",
        "colab_type": "code",
        "colab": {}
      },
      "source": [
        "cursor.execute('''insert into Transactions_Financial_c1 values ('1', '2', '100' );''')\n",
        "connectionToDatabase.commit()\n",
        "cursor.execute('''insert into Transactions_Financial_c1 values ('2', '8', '300' );''')\n",
        "connectionToDatabase.commit()\n",
        "cursor.execute('''insert into Transactions_Financial_c1 values ('3', '2', '50' );''')\n",
        "connectionToDatabase.commit()\n",
        "cursor.execute('''insert into Transactions_Financial_c1 values ('4', '10', '350' );''')\n",
        "connectionToDatabase.commit()\n",
        "cursor.execute('''insert into Transactions_Financial_c1 values ('5', '0', '0' );''')\n",
        "connectionToDatabase.commit()\n",
        "cursor.execute('''insert into Transactions_Financial_c1 values ('6', '18', '650' );''')\n",
        "connectionToDatabase.commit()\n",
        "cursor.execute('''insert into Transactions_Financial_c1 values ('7', '0', '200' );''')\n",
        "connectionToDatabase.commit()"
      ],
      "execution_count": 0,
      "outputs": []
    },
    {
      "cell_type": "markdown",
      "metadata": {
        "id": "pe68HChfQ-sI",
        "colab_type": "text"
      },
      "source": [
        "Table 4: Transactions (For customer 1)\n",
        "\n",
        "This list shows a summary of transactions, with each customer getting their own table."
      ]
    },
    {
      "cell_type": "markdown",
      "metadata": {
        "id": "fP0ug0OiRGXL",
        "colab_type": "text"
      },
      "source": [
        "|Transaction Number|Total in Dollars|New Points Balance|\n",
        "|---|---|---|\n",
        "|1|2|100|\n",
        "|2|8|300|\n",
        "|3|2|50|\n",
        "|4|10|350|\n",
        "|5|0|0|\n",
        "|6|18|650|\n",
        "|7|0|200|"
      ]
    },
    {
      "cell_type": "code",
      "metadata": {
        "id": "8Gs4RBC3_Ywy",
        "colab_type": "code",
        "colab": {}
      },
      "source": [
        "cursor.execute('''drop table IF EXISTS Transactions_c1''')\n",
        "connectionToDatabase.commit()\n",
        "\n",
        "cursor.execute('''create table Transactions_c1 (itemsPurchased text PRIMARY KEY, price int, quantity int, pointsAdded int)''')\n",
        "connectionToDatabase.commit()"
      ],
      "execution_count": 0,
      "outputs": []
    },
    {
      "cell_type": "code",
      "metadata": {
        "id": "fwU2Q_QY_4DG",
        "colab_type": "code",
        "colab": {}
      },
      "source": [
        "cursor.execute('''insert into Transactions_c1 values ('Candy Bar', '1', '2', '100' );''')\n",
        "connectionToDatabase.commit()\n",
        "cursor.execute('''insert into Transactions_c1 values ('Pizza', '7', '1', '200' );''')\n",
        "connectionToDatabase.commit()\n",
        "cursor.execute('''insert into Transactions_c1 values ('Pop', '2', '1', '125' );''')\n",
        "connectionToDatabase.commit()\n",
        "cursor.execute('''insert into Transactions_c1 values ('Burger', '6', '1', '150' );''')\n",
        "connectionToDatabase.commit()\n",
        "cursor.execute('''insert into Transactions_c1 values ('Icee', '2', '1', '75' );''')\n",
        "connectionToDatabase.commit()"
      ],
      "execution_count": 0,
      "outputs": []
    },
    {
      "cell_type": "markdown",
      "metadata": {
        "id": "vPZfEbm1RMui",
        "colab_type": "text"
      },
      "source": [
        "Table 5: Transaction Details (For Customer 1, transaction 6) (No Points Used) \n",
        "\n",
        "This list shows a list of items purchased in a particular transaction. This gives customers more details, and one of these tables exists for each transaction for each customer."
      ]
    },
    {
      "cell_type": "markdown",
      "metadata": {
        "id": "67w3Vj_cRSoh",
        "colab_type": "text"
      },
      "source": [
        "|Item Purchased|Price ($)|Quantity|Points Awarded|\n",
        "|---|---|---|---|\n",
        "|Candy Bar|1|2|100|\n",
        "|Pizza|7|1|200|\n",
        "|Pop|2|1|125|\n",
        "|Burger|6|1|150|\n",
        "|Icee|2|1|75|"
      ]
    },
    {
      "cell_type": "code",
      "metadata": {
        "id": "ZwkNWlIWH3yD",
        "colab_type": "code",
        "colab": {}
      },
      "source": [
        "cursor.execute('''drop table IF EXISTS Transactions_c1_t7''')\n",
        "connectionToDatabase.commit()\n",
        "\n",
        "cursor.execute('''create table Transactions_c1_t7 (itemsPurchased text PRIMARY KEY, points int, quantity int, pointsSubtracted int)''')\n",
        "connectionToDatabase.commit()"
      ],
      "execution_count": 0,
      "outputs": []
    },
    {
      "cell_type": "code",
      "metadata": {
        "id": "dHE2ZJ3BIIb_",
        "colab_type": "code",
        "colab": {}
      },
      "source": [
        "cursor.execute('''insert into Transactions_c1_t7 values ('Ice Cream', '250', '1', '250' );''')\n",
        "connectionToDatabase.commit()\n",
        "cursor.execute('''insert into Transactions_c1_t7 values ('Icee', '200', '1', '200' );''')\n",
        "connectionToDatabase.commit()"
      ],
      "execution_count": 0,
      "outputs": []
    },
    {
      "cell_type": "markdown",
      "metadata": {
        "id": "KIB1F4Qjb5tU",
        "colab_type": "text"
      },
      "source": [
        "Table 6: Transaction Details (For Customer 1, transaction 7) (Only points used)\n",
        "\n",
        "Same as table 5, but this time we are showing a points only transaction, costing the customer nothing "
      ]
    },
    {
      "cell_type": "markdown",
      "metadata": {
        "id": "Z-5tcwuAcrDS",
        "colab_type": "text"
      },
      "source": [
        "|Item Purchased|Points Price|Quantity|Points Subtracted|\n",
        "|---|---|---|---|\n",
        "|Ice Cream|250|1|250|\n",
        "|Icee|200|1|200|\n"
      ]
    },
    {
      "cell_type": "markdown",
      "metadata": {
        "id": "tq10kq1qu3dl",
        "colab_type": "text"
      },
      "source": [
        "https://imgur.com/a/OSPDZB7"
      ]
    },
    {
      "cell_type": "markdown",
      "metadata": {
        "id": "dLrYXHIpRgkM",
        "colab_type": "text"
      },
      "source": [
        "![alt text](https://imgur.com/a/OSPDZB7)\n",
        "\n",
        "\n",
        "https://hbr.org/1995/05/do-rewards-really-create-loyalty"
      ]
    },
    {
      "cell_type": "markdown",
      "metadata": {
        "id": "tzJ_lHn0ID09",
        "colab_type": "text"
      },
      "source": [
        "Which items need the most points to buy?\n"
      ]
    },
    {
      "cell_type": "code",
      "metadata": {
        "id": "6WAdJDSkInwQ",
        "colab_type": "code",
        "outputId": "94bd0075-2886-45fb-ac83-545427ca6ef6",
        "colab": {
          "base_uri": "https://localhost:8080/",
          "height": 153
        }
      },
      "source": [
        "cursor.execute('''SELECT * FROM Points_Needed ORDER BY points_required DESC;''')\n",
        "for row in cursor.fetchall():\n",
        "  print (row)"
      ],
      "execution_count": 0,
      "outputs": [
        {
          "output_type": "stream",
          "text": [
            "('Pizza', 2000)\n",
            "('Cheeseburger', 1750)\n",
            "('Burger', 1500)\n",
            "('Pop', 800)\n",
            "('Hot Dog', 500)\n",
            "('Candy Bar', 250)\n",
            "('Ice Cream', 250)\n",
            "('Icee', 200)\n"
          ],
          "name": "stdout"
        }
      ]
    },
    {
      "cell_type": "markdown",
      "metadata": {
        "id": "gHjhUdHCdlES",
        "colab_type": "text"
      },
      "source": [
        "Pizza needs the most points to buy. Following after are Cheeseburger, Burger, Pop, HOt Dog, Candy Bar, Ice Cream and Icee"
      ]
    },
    {
      "cell_type": "markdown",
      "metadata": {
        "id": "-jSnEiZqKof2",
        "colab_type": "text"
      },
      "source": [
        "What Item awards the most points?"
      ]
    },
    {
      "cell_type": "code",
      "metadata": {
        "id": "Kkkdi-ohK-vw",
        "colab_type": "code",
        "outputId": "327ee72f-baf7-4ec3-9e33-3aed78632383",
        "colab": {
          "base_uri": "https://localhost:8080/",
          "height": 34
        }
      },
      "source": [
        "cursor.execute('''SELECT itemsPurchased, pointsAdded FROM Transactions_c1 ORDER BY pointsAdded Desc LIMIT 1;''')\n",
        "for row in cursor.fetchall():\n",
        "  print (row)"
      ],
      "execution_count": 0,
      "outputs": [
        {
          "output_type": "stream",
          "text": [
            "('Pizza', 200)\n"
          ],
          "name": "stdout"
        }
      ]
    },
    {
      "cell_type": "markdown",
      "metadata": {
        "id": "THLoOCXcdyER",
        "colab_type": "text"
      },
      "source": [
        "Pizza awards the most points at 200 points"
      ]
    },
    {
      "cell_type": "markdown",
      "metadata": {
        "id": "U4DHAlkpK-_I",
        "colab_type": "text"
      },
      "source": [
        "Which customerID has the most points available?"
      ]
    },
    {
      "cell_type": "code",
      "metadata": {
        "id": "eOYdCvIFLCQs",
        "colab_type": "code",
        "outputId": "325f2243-ed0e-4893-dda2-f04dcf6eed64",
        "colab": {
          "base_uri": "https://localhost:8080/",
          "height": 136
        }
      },
      "source": [
        "cursor.execute('''SELECT customerID, points_available FROM Customers ORDER BY points_available DESC;''')\n",
        "for row in cursor.fetchall():\n",
        "  print (row)"
      ],
      "execution_count": 0,
      "outputs": [
        {
          "output_type": "stream",
          "text": [
            "(4, 800.0)\n",
            "(5, 400.0)\n",
            "(2, 350.0)\n",
            "(1, 200.0)\n",
            "(6, 150.0)\n",
            "(7, 100.0)\n",
            "(3, 0.0)\n"
          ],
          "name": "stdout"
        }
      ]
    },
    {
      "cell_type": "code",
      "metadata": {
        "id": "8da6eNXi1aM0",
        "colab_type": "code",
        "colab": {}
      },
      "source": [
        ""
      ],
      "execution_count": 0,
      "outputs": []
    },
    {
      "cell_type": "markdown",
      "metadata": {
        "id": "fdYAySZqd2rw",
        "colab_type": "text"
      },
      "source": [
        "customerID 4 has the most points available a"
      ]
    },
    {
      "cell_type": "markdown",
      "metadata": {
        "id": "iFvBNdPQJ1WJ",
        "colab_type": "text"
      },
      "source": [
        "ER Diagram:"
      ]
    },
    {
      "cell_type": "markdown",
      "metadata": {
        "id": "sar1q-XxNWPP",
        "colab_type": "text"
      },
      "source": [
        "https://imgur.com/a/QrAP3gu"
      ]
    }
  ]
}